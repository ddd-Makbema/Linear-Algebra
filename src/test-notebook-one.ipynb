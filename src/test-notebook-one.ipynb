{
  "cells": [
    {
      "cell_type": "markdown",
      "metadata": {
        "id": "7q6ZeiDVVSp3"
      },
      "source": [
        "[![Open In Colab](https://colab.research.google.com/assets/colab-badge.svg)](https://colab.research.google.com/github/black-swan-event/linear-algebra/blob/main/src/test-notebook-one.ipynb)\n"
      ]
    },
    {
      "cell_type": "code",
      "execution_count": 2,
      "metadata": {
        "id": "IpyGulxCVSp7",
        "outputId": "20b4a66a-0093-4c42-e592-fe55996665da",
        "colab": {
          "base_uri": "https://localhost:8080/",
          "height": 35
        }
      },
      "outputs": [
        {
          "output_type": "execute_result",
          "data": {
            "text/plain": [
              "'hello'"
            ],
            "application/vnd.google.colaboratory.intrinsic+json": {
              "type": "string"
            }
          },
          "metadata": {},
          "execution_count": 2
        }
      ],
      "source": [
        "# Run this cell\n",
        "\"hello\""
      ]
    },
    {
      "cell_type": "markdown",
      "metadata": {
        "id": "G5dOrTcgVSp8"
      },
      "source": [
        "Make the following changes to this notebook and save it to your Github account titled `linear-algebra`"
      ]
    },
    {
      "cell_type": "markdown",
      "metadata": {
        "id": "GGGGkl-VVSp8"
      },
      "source": [
        "1.  Create a Python cell that adds 2 + 2 and run for the output.\n",
        "2.  Create a markdown cell that provides the opening line to Tennyson's poem `Ulysses`"
      ]
    },
    {
      "cell_type": "markdown",
      "metadata": {
        "id": "YimEIRNMVSp9"
      },
      "source": []
    }
  ],
  "metadata": {
    "kernelspec": {
      "display_name": "argparse-regex-pytest-env",
      "language": "python",
      "name": "python3"
    },
    "language_info": {
      "codemirror_mode": {
        "name": "ipython",
        "version": 3
      },
      "file_extension": ".py",
      "mimetype": "text/x-python",
      "name": "python",
      "nbconvert_exporter": "python",
      "pygments_lexer": "ipython3",
      "version": "3.11.2"
    },
    "orig_nbformat": 4,
    "colab": {
      "provenance": []
    }
  },
  "nbformat": 4,
  "nbformat_minor": 0
}